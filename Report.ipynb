{
 "cells": [
  {
   "cell_type": "markdown",
   "metadata": {},
   "source": [
    "# Smart Recommendation System for LoL Players\n",
    "\n",
    "\n",
    "## Introduction\n",
    "\n",
    "<img src=\"LoL.jpg\">\n",
    "\n",
    "\n",
    "The League of Legends (LoL) is a multiplayer online battle arena video game. Since its first release in 2009, the game has gained great popularity among players around the globe. In September 2016, it was estimated that there were over 100 million active players each month. From a larger scope, online gaming industry is consistently on the rise. Massively multiplayer(MMO) gaming generated revenue of roughly 19.9 billion U.S. dollars in 2016 [(1)](## References:). In this project, we obtains dynamic data including players and matches as well as static data from the official Riot API [(2)](## References:) through Cassiopeia, a framework dedicated to the Riot API [(3)](## References:). We then proceed onto further manipulation of the data and eventually building the champion recommendation system for LoL players."
   ]
  },
  {
   "cell_type": "markdown",
   "metadata": {},
   "source": [
    "## Table of Content\n",
    "\n",
    "[1. Design and Implementation of Database](# Design and Loading of Database)\n",
    "\n",
    "[2. Manipulation of Data](# Manipulation of Data)\n",
    "\n",
    "[3. Prediction of Outcomes](# Prediction of Outcomes)\n",
    "\n",
    "[4. Player Scoring System](# Player Scoring System)\n",
    "\n",
    "[5. Champion Recommendation System](# Champion Recommendation System)"
   ]
  },
  {
   "cell_type": "markdown",
   "metadata": {},
   "source": [
    "## Design and Implementation of  Database"
   ]
  },
  {
   "cell_type": "code",
   "execution_count": 14,
   "metadata": {},
   "outputs": [],
   "source": [
    "from preprocess import *"
   ]
  },
  {
   "cell_type": "markdown",
   "metadata": {},
   "source": [
    "## Manipulation of Data"
   ]
  },
  {
   "cell_type": "markdown",
   "metadata": {},
   "source": [
    "## Prediction of Outcomes\n",
    "With the data curated from the previous section, we build a binary classification model to predict the outcome of the match using support vector machine (SVM)."
   ]
  },
  {
   "cell_type": "code",
   "execution_count": 15,
   "metadata": {},
   "outputs": [
    {
     "name": "stdout",
     "output_type": "stream",
     "text": [
      "train_accuracy:93.95%\n",
      "Our prediction for match 0 is WIN: red and the true outcome is WIN: red\n"
     ]
    }
   ],
   "source": [
    "def predict_result(match_id, match_data, verbose=False):\n",
    "    X = []\n",
    "    y = []\n",
    "    for i, match in enumerate(match_data):\n",
    "        X.append([])\n",
    "        # Avoid division by zero\n",
    "        X[i].append(match['red']['total']['kda'] / (match['blue']['total']['kda'] + 1e-6))\n",
    "        X[i].append(match['red']['total']['income'] / (match['blue']['total']['income'] + 1e-6))\n",
    "        X[i].append(match['red']['total']['kills'] / (match['blue']['total']['kills'] + 1e-6))\n",
    "\n",
    "        if match['win_side'] == 'red':\n",
    "            y.append(0)\n",
    "        else:\n",
    "            y.append(1)\n",
    "   \n",
    "    scaler = MinMaxScaler()\n",
    "    clf = svm.SVC(C=1e10, kernel='linear')\n",
    "    X = np.array(X)\n",
    "    y = np.array(y)\n",
    "    scaler.fit(X)\n",
    "    X_train = scaler.transform(X)\n",
    "    clf.fit(X_train, y)\n",
    "    if verbose:\n",
    "        ret = clf.predict(X_train)\n",
    "        tot = len(ret)\n",
    "        hit = 0\n",
    "        for pred, true in zip(ret, y):\n",
    "            if pred == true:\n",
    "                hit += 1\n",
    "        print(\"train_accuracy:{:2.2f}%\".format(hit * 100 / tot))\n",
    "    \n",
    "    ret = clf.predict(X_train[match_id].reshape([1, -1]))\n",
    "    return 'red' if ret == 0 else 'blue', clf\n",
    "\n",
    "ret, clf = predict_result(0, match_data, verbose=True)\n",
    "\n",
    "print(\"Our prediction for match {} is WIN: {} and the true outcome is WIN: {}\".format(0, ret, match_data[0]['win_side']))"
   ]
  },
  {
   "cell_type": "markdown",
   "metadata": {},
   "source": [
    "We can further infer which lane has the most impact on the outcome of the match using the model trained."
   ]
  },
  {
   "cell_type": "code",
   "execution_count": 16,
   "metadata": {},
   "outputs": [
    {
     "name": "stdout",
     "output_type": "stream",
     "text": [
      "MID_LANE : 51.25%\n",
      "JUNGLE : 51.30%\n",
      "TOP_LANE : 53.20%\n",
      "BOT_LANE : 51.29%\n",
      "TOP_LANE has the most impact on the outcome of the match.\n"
     ]
    }
   ],
   "source": [
    "def which_lane(clf, match_data, verbose=False):\n",
    "    \n",
    "    lane_dict = {}\n",
    "    for match in match_data:\n",
    "        for lane in match['red']['by_lane'].keys():\n",
    "            if lane not in match['blue']['by_lane'].keys():\n",
    "                continue\n",
    "            if lane not in lane_dict.keys():\n",
    "                lane_dict[lane] = []\n",
    "            \n",
    "            # Avoid division by zero\n",
    "            kda = match['red']['by_lane'][lane]['kda'] / (match['blue']['by_lane'][lane]['kda'] + 1e-6)\n",
    "            income = match['red']['by_lane'][lane]['income'] / (match['blue']['by_lane'][lane]['income'] + 1e-6)\n",
    "            kill = match['red']['by_lane'][lane]['kills'] / (match['blue']['by_lane'][lane]['kills'] + 1e-6)\n",
    "            win = 0 if match['win_side'] == 'red' else 1\n",
    "            lane_dict[lane].append([kda, income, kill, win])\n",
    "    lanelist = [lane for lane in lane_dict.keys()]\n",
    "    best_acc = 0.0\n",
    "    the_lane = ''\n",
    "    for lane, lane_data in lane_dict.items():\n",
    "        if lane == None:\n",
    "            continue\n",
    "        lane_data = np.array(lane_data)\n",
    "        X = lane_data[:,:3]\n",
    "        y = lane_data[:,-1]\n",
    "        scaler = MinMaxScaler()\n",
    "        scaler.fit(X)\n",
    "        X_train = scaler.transform(X)\n",
    "        ret = clf.predict(X_train)\n",
    "        tot = len(ret)\n",
    "        hit = 0\n",
    "        for pred, true in zip(ret, y):\n",
    "            if pred == true:\n",
    "                hit += 1\n",
    "        acc = hit/tot\n",
    "        if verbose:\n",
    "            print(\"{} : {:2.2f}%\".format(lane, acc * 100))\n",
    "        if acc > best_acc:\n",
    "            best_acc = acc\n",
    "            the_lane = lane\n",
    "    return the_lane\n",
    "\n",
    "# Print our inference\n",
    "lane = which_lane(clf, match_data)\n",
    "print(\"{} has the most impact on the outcome of the match.\".format(lane))"
   ]
  },
  {
   "cell_type": "markdown",
   "metadata": {},
   "source": [
    "## Player Scoring System"
   ]
  },
  {
   "cell_type": "markdown",
   "metadata": {},
   "source": [
    "## Champion Recommendation System"
   ]
  },
  {
   "cell_type": "markdown",
   "metadata": {},
   "source": [
    "## Summary and Conclusion"
   ]
  },
  {
   "cell_type": "markdown",
   "metadata": {},
   "source": [
    "## References:\n",
    "[1]https://www.statista.com/topics/1551/online-gaming/\n",
    "\n",
    "[2]https://developer.riotgames.com/\n",
    "\n",
    "[3]https://cassiopeia.readthedocs.io/en/latest/"
   ]
  }
 ],
 "metadata": {
  "kernelspec": {
   "display_name": "py_36_env",
   "language": "python",
   "name": "py_36_env"
  },
  "language_info": {
   "codemirror_mode": {
    "name": "ipython",
    "version": 3
   },
   "file_extension": ".py",
   "mimetype": "text/x-python",
   "name": "python",
   "nbconvert_exporter": "python",
   "pygments_lexer": "ipython3",
   "version": "3.6.4"
  }
 },
 "nbformat": 4,
 "nbformat_minor": 2
}
