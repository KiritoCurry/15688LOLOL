{
 "cells": [
  {
   "cell_type": "markdown",
   "metadata": {},
   "source": [
    "# Smart Recommendation System for LoL Players\n",
    "\n",
    "\n",
    "## Introduction\n",
    "\n",
    "<img src=\"LoL.jpg\">\n",
    "\n",
    "\n",
    "The League of Legends (LoL) is a multiplayer online battle arena video game. Since its first release in 2009, the game has gained popularity among players around the globe. In September 2016, it was estimated that there were over 100 million active players each month. From a larger scope, online gaming industry is consistently on the rise. Massively multiplayer(MMO) gaming generated revenue of roughly 19.9 billion U.S. dollars in 2016 [(1)](## References:). In this project, we obtains dynamic data including players and matches as well as static data from the official Riot API [(2)](## References:) through Cassiopeia, a framework dedicated to the Riot API [(3)](## References:) We then proceed onto further manipulation of the data. "
   ]
  },
  {
   "cell_type": "markdown",
   "metadata": {},
   "source": [
    "## Table of Content\n",
    "[1. Design and Implementation of Database](# Design and Loading of Database)\n",
    "\n",
    "[2. Manipulation of Data](# Manipulation of Data)\n",
    "\n",
    "[3. Prediction of Outcomes](# Prediction of Outcomes)\n",
    "\n",
    "[4. Player Scoring System](# Player Scoring System)\n",
    "\n",
    "[5. Champion Recommendation System](# Champion Recommendation System)"
   ]
  },
  {
   "cell_type": "markdown",
   "metadata": {},
   "source": [
    "## Design and Implementation of  Database"
   ]
  },
  {
   "cell_type": "markdown",
   "metadata": {},
   "source": [
    "## Manipulation of Data"
   ]
  },
  {
   "cell_type": "markdown",
   "metadata": {},
   "source": [
    "## Prediction of Outcomes"
   ]
  },
  {
   "cell_type": "markdown",
   "metadata": {},
   "source": [
    "## Player Scoring System"
   ]
  },
  {
   "cell_type": "markdown",
   "metadata": {},
   "source": [
    "## Champion Recommendation System"
   ]
  },
  {
   "cell_type": "markdown",
   "metadata": {},
   "source": [
    "## References:\n",
    "[1]https://www.statista.com/topics/1551/online-gaming/\n",
    "\n",
    "[2]https://developer.riotgames.com/\n",
    "\n",
    "[3]https://cassiopeia.readthedocs.io/en/latest/"
   ]
  }
 ],
 "metadata": {
  "kernelspec": {
   "display_name": "Python 3",
   "language": "python",
   "name": "python3"
  },
  "language_info": {
   "codemirror_mode": {
    "name": "ipython",
    "version": 3
   },
   "file_extension": ".py",
   "mimetype": "text/x-python",
   "name": "python",
   "nbconvert_exporter": "python",
   "pygments_lexer": "ipython3",
   "version": "3.6.5"
  }
 },
 "nbformat": 4,
 "nbformat_minor": 2
}
